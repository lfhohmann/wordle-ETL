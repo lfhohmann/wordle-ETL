{
 "cells": [
  {
   "cell_type": "markdown",
   "metadata": {},
   "source": [
    "### **Performing ETL on [Wordle](https://www.nytimes.com/games/wordle/index.html) game**\n",
    "\n",
    "Before we start, let's manually look into the source code for the variables where each words `list` is stored.\n",
    "\n",
    "###############################################################################<br>\n",
    "1st `list`:\n",
    "\n",
    "```js script\n",
    " 8520 >>> var mo = [\n",
    " 8521 >>>         \"cigar\",\n",
    " 8522 >>>         \"rebut\",\n",
    " 8523 >>>         \"sissy\",\n",
    " 8524 >>>         \"humph\",\n",
    " 8525 >>>         \"awake\",\n",
    "                     ˄\n",
    "                     ˅\n",
    "10824 >>>         \"sooth\",\n",
    "10825 >>>         \"unset\",\n",
    "10826 >>>         \"unlit\",\n",
    "10827 >>>         \"vomit\",\n",
    "10828 >>>         \"fanny\",\n",
    "10829 >>>     ],\n",
    "```\n",
    "################################################################################<br>\n",
    "2nd `list`: \n",
    "\n",
    "```js script\n",
    "10830 >>>    fo = [\n",
    "10831 >>>         \"aahed\",\n",
    "10832 >>>         \"aalii\",\n",
    "10833 >>>         \"aargh\",\n",
    "10834 >>>         \"aarti\",\n",
    "10835 >>>         \"abaca\",\n",
    "                     ˄\n",
    "                     ˅\n",
    "21491 >>>         \"zuzim\",\n",
    "21492 >>>         \"zygal\",\n",
    "21493 >>>         \"zygon\",\n",
    "21494 >>>         \"zymes\",\n",
    "21495 >>>         \"zymic\",\n",
    "21496 >>>     ],\n",
    "```\n",
    "\n",
    "Analysing the entire code *(**wordle.js** file)*, we can find 2 lists of words. Apparently, there is a **valid guesses** `list` and a **valid_answers** `list`.\n",
    "\n",
    "We can see that the words are stored in variables called `mo` and `fo`, respectively. They are written over multiple lines of code.\n",
    "\n",
    "So, let's extract them!"
   ]
  },
  {
   "cell_type": "code",
   "execution_count": 7,
   "metadata": {},
   "outputs": [],
   "source": [
    "# Import modules\n",
    "import unidecode\n",
    "import re\n",
    "\n",
    "# Define constants\n",
    "NUMBER_OF_PREVIEW_ELEMENTS = 10\n",
    "DIVIDER = '#' * 120\n",
    "\n",
    "# Init variables\n",
    "words_lists = [None] * 2\n",
    "\n",
    "\n",
    "def print_words_lists_preview() -> None:\n",
    "    \"\"\"Helper function to print a preview of each words lists and their respective length\"\"\"\n",
    "\n",
    "    # Iterate over each words list\n",
    "    for words_list in words_lists:\n",
    "\n",
    "        # Check if the words list is not empty\n",
    "        if words_list:\n",
    "            print(f\"first:\\t{words_list[:NUMBER_OF_PREVIEW_ELEMENTS]}\") # Print the first words\n",
    "            print(f\"last:\\t{words_list[-NUMBER_OF_PREVIEW_ELEMENTS:]}\") # Print the last words\n",
    "            print(f\"length:\\t{len(words_list)}\")                        # Print the length of the words list\n",
    "            print() "
   ]
  },
  {
   "cell_type": "markdown",
   "metadata": {},
   "source": [
    "Let's load the JavaScript source code as a `list` of lines and preview it."
   ]
  },
  {
   "cell_type": "code",
   "execution_count": 8,
   "metadata": {},
   "outputs": [
    {
     "name": "stdout",
     "output_type": "stream",
     "text": [
      "########################################################################################################################\n",
      "FIRST:\n",
      "\t(this.wordle = this.wordle || {}),\n",
      "\t    (this.wordle.bundle = (function (e) {\n",
      "\t        \"use strict\";\n",
      "\t        function t(e, t) {\n",
      "\t            var n = Object.keys(e);\n",
      "\t            if (Object.getOwnPropertySymbols) {\n",
      "\t                var a = Object.getOwnPropertySymbols(e);\n",
      "\t                t &&\n",
      "\t                    (a = a.filter(function (t) {\n",
      "\t                        return Object.getOwnPropertyDescriptor(e, t).enumerable;\n",
      "########################################################################################################################\n",
      "LAST:\n",
      "\t            (e.GameThemeManager = E),\n",
      "\t            (e.GameTile = w),\n",
      "\t            (e.GameToast = ho),\n",
      "\t            (e.NYTIcon = Fi),\n",
      "\t            (e.NavIcon = $i),\n",
      "\t            (e.NavModal = Ii),\n",
      "\t            Object.defineProperty(e, \"__esModule\", { value: !0 }),\n",
      "\t            e\n",
      "\t        );\n",
      "\t    })({}));\n",
      "########################################################################################################################\n",
      "LENGTH: 23783\n"
     ]
    }
   ],
   "source": [
    "def load_file(filepath: str) -> list:\n",
    "    \"\"\"Function to output a list of lines from a file\"\"\"\n",
    "\n",
    "    with open(filepath, \"r\", encoding=\"utf-8\") as f:\n",
    "        return f.read().splitlines()\n",
    "\n",
    "\n",
    "def print_code_preview(src_code: list) -> None:\n",
    "    \"\"\"Helper function to print a preview of the code\"\"\"\n",
    "\n",
    "    print(DIVIDER)\n",
    "    print(\"FIRST:\")\n",
    "\n",
    "    # Iterate over the first lines\n",
    "    for line in src_code[:NUMBER_OF_PREVIEW_ELEMENTS]:\n",
    "        print(f\"\\t{line}\")\n",
    "\n",
    "    print(DIVIDER)\n",
    "    print(\"LAST:\")\n",
    "\n",
    "    # Iterate over the last lines\n",
    "    for line in src_code[-NUMBER_OF_PREVIEW_ELEMENTS:]:\n",
    "        print(f\"\\t{line}\")\n",
    "    \n",
    "    print(DIVIDER)\n",
    "    print(f\"LENGTH: {len(src_code)}\") # Print the code's length\n",
    "\n",
    "\n",
    "# Load the code\n",
    "src_code = load_file(filepath=\"data\\\\src_code\\\\wordle.js\")\n",
    "\n",
    "# Preview the first and last lines of code\n",
    "print_code_preview(src_code=src_code)"
   ]
  },
  {
   "cell_type": "markdown",
   "metadata": {},
   "source": [
    "Let's extract both words `list`:\n",
    "\n",
    "+ We can detect their start based on their variable name and their opening char: `'['`\n",
    "+ We can detect their end based on their closing char: `']'`"
   ]
  },
  {
   "cell_type": "code",
   "execution_count": 9,
   "metadata": {},
   "outputs": [
    {
     "name": "stdout",
     "output_type": "stream",
     "text": [
      "first:\t['cigar', 'rebut', 'sissy', 'humph', 'awake', 'blush', 'focal', 'evade', 'naval', 'serve']\n",
      "last:\t['hydro', 'liege', 'octal', 'ombre', 'payer', 'sooth', 'unset', 'unlit', 'vomit', 'fanny']\n",
      "length:\t2309\n",
      "\n",
      "first:\t['aahed', 'aalii', 'aargh', 'aarti', 'abaca', 'abaci', 'abacs', 'abaft', 'abaka', 'abamp']\n",
      "last:\t['zulus', 'zupan', 'zupas', 'zuppa', 'zurfs', 'zuzim', 'zygal', 'zygon', 'zymes', 'zymic']\n",
      "length:\t10665\n",
      "\n"
     ]
    }
   ],
   "source": [
    "def extract_words_from_list(src_code: list, var_name: str, opening_char: str, closing_char: str) -> list:\n",
    "    \"\"\"Function to extract words from a list in the source code\"\"\"\n",
    "\n",
    "    # Init variables\n",
    "    words_list = []     # Output list of words\n",
    "    store_words = False # Flag to wheter store words or not\n",
    "\n",
    "    # Iterate over the source code's lines\n",
    "    for line in src_code:\n",
    "        \n",
    "        # If store_words flag is set, find words in the line\n",
    "        if store_words:\n",
    "            result = re.findall(r\"\\w+\", line)\n",
    "\n",
    "            # Check if the RegEx result contains words\n",
    "            if len(result):\n",
    "\n",
    "                # Grab the first word\n",
    "                # Remove accented and special characters, convert it to lowercase\n",
    "                # And add it to the words list\n",
    "                words_list.append(unidecode.unidecode(result[0]).lower())\n",
    "        \n",
    "        # If line contains the variable name and the opening char, set the flag to store words\n",
    "        if var_name in line and opening_char in line:\n",
    "            store_words = True\n",
    "\n",
    "        # If line contains the closing char, set the flag to not store words\n",
    "        if closing_char in line:\n",
    "            store_words = False\n",
    "\n",
    "    # Return the output words list\n",
    "    return words_list\n",
    "\n",
    "# Extract each words list\n",
    "words_lists[0] = extract_words_from_list(src_code=src_code, var_name=\"mo =\", opening_char=\"[\", closing_char=\"]\")\n",
    "words_lists[1] = extract_words_from_list(src_code=src_code, var_name=\"fo =\", opening_char=\"[\", closing_char=\"]\")\n",
    "\n",
    "# Print the words lists previews\n",
    "print_words_lists_preview()"
   ]
  },
  {
   "cell_type": "markdown",
   "metadata": {},
   "source": [
    "Let's make sure, there are no duplicated words inside each list. We are going to convert each `list` into a `set`, which will get rid of duplicates.\n",
    "\n",
    "Then, we will check if there are duplicates across both lists.\n",
    "\n",
    "And, finally, each `set` will be converted back to a `list`.\n",
    "\n",
    "*(Duplicated words would unbalance the probabilities of each word being randomly picked during the game execution)*"
   ]
  },
  {
   "cell_type": "code",
   "execution_count": 10,
   "metadata": {},
   "outputs": [
    {
     "name": "stdout",
     "output_type": "stream",
     "text": [
      "Duplicated words across lists: []\n"
     ]
    }
   ],
   "source": [
    "words_lists[0] = set(words_lists[0])\n",
    "words_lists[1] = set(words_lists[1])\n",
    "\n",
    "print(f\"Duplicated words across lists: {list(words_lists[0] & words_lists[1])}\")\n",
    "\n",
    "words_lists[0] = list(words_lists[0])\n",
    "words_lists[1] = list(words_lists[1])"
   ]
  },
  {
   "cell_type": "markdown",
   "metadata": {},
   "source": [
    "Great, no words are duplicated across lists.\n",
    "\n",
    "Now, taking into consideration that the **valid guesses** list will always be larger than the **valid answers** list, we can store them *(alphabetically sorted)* on `.txt` files.\n",
    "\n",
    "The words in the first list `words_lists[0]` are our **valid answers** and the ones in the second list `words_lists[1]` are our **valid guesses**."
   ]
  },
  {
   "cell_type": "code",
   "execution_count": 11,
   "metadata": {},
   "outputs": [],
   "source": [
    "def write_file(filepath: str, words: list) -> None:\n",
    "    \"\"\"Function to write a list of words to a file\"\"\"\n",
    "\n",
    "    with open(filepath, \"w\") as f:\n",
    "        for word in words:\n",
    "            f.write(f\"{word}\\n\")\n",
    "\n",
    "write_file(\"data\\\\words\\\\valid_answers.txt\", sorted(words_lists[0]))\n",
    "write_file(\"data\\\\words\\\\valid_guesses.txt\", sorted(words_lists[1]))"
   ]
  }
 ],
 "metadata": {
  "interpreter": {
   "hash": "2be5faf79681da6f2a61fdfdd5405d65d042280f7fba6178067603e3a2925119"
  },
  "kernelspec": {
   "display_name": "Python 3.10.1 64-bit",
   "language": "python",
   "name": "python3"
  },
  "language_info": {
   "codemirror_mode": {
    "name": "ipython",
    "version": 3
   },
   "file_extension": ".py",
   "mimetype": "text/x-python",
   "name": "python",
   "nbconvert_exporter": "python",
   "pygments_lexer": "ipython3",
   "version": "3.10.1"
  },
  "orig_nbformat": 4
 },
 "nbformat": 4,
 "nbformat_minor": 2
}
